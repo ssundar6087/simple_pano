{
  "nbformat": 4,
  "nbformat_minor": 0,
  "metadata": {
    "colab": {
      "private_outputs": true,
      "provenance": [],
      "authorship_tag": "ABX9TyNnHNzoJeeXkGhb1W8gTcHF",
      "include_colab_link": true
    },
    "kernelspec": {
      "name": "python3",
      "display_name": "Python 3"
    },
    "language_info": {
      "name": "python"
    }
  },
  "cells": [
    {
      "cell_type": "markdown",
      "metadata": {
        "id": "view-in-github",
        "colab_type": "text"
      },
      "source": [
        "<a href=\"https://colab.research.google.com/github/ssundar6087/simple_pano/blob/main/build_your_own_pano.ipynb\" target=\"_parent\"><img src=\"https://colab.research.google.com/assets/colab-badge.svg\" alt=\"Open In Colab\"/></a>"
      ]
    },
    {
      "cell_type": "code",
      "execution_count": null,
      "metadata": {
        "id": "ZjeS6WZICs2G"
      },
      "outputs": [],
      "source": [
        "import numpy as np\n",
        "import cv2\n",
        "import matplotlib.pyplot as plt\n",
        "import os\n",
        "import glob\n",
        "%matplotlib inline"
      ]
    },
    {
      "cell_type": "markdown",
      "source": [
        "# Get & load the images"
      ],
      "metadata": {
        "id": "eQAZIg47RwPt"
      }
    },
    {
      "cell_type": "code",
      "source": [
        "!git clone https://github.com/ssundar6087/simple_pano.git"
      ],
      "metadata": {
        "id": "25NKq-8mLofv"
      },
      "execution_count": null,
      "outputs": []
    },
    {
      "cell_type": "code",
      "source": [
        "!ls /content/simple_pano/images/"
      ],
      "metadata": {
        "id": "_5Os-jUpRs99"
      },
      "execution_count": null,
      "outputs": []
    },
    {
      "cell_type": "code",
      "source": [
        "img_dir = \"/content/simple_pano/images/\"\n",
        "img_list = []\n",
        "for file in os.listdir(img_dir):\n",
        "  if file.endswith(\".png\"):\n",
        "    img_list.append(os.path.join(img_dir, file))\n",
        "sorted_img_list = sorted(img_list)\n",
        "print(sorted_img_list)"
      ],
      "metadata": {
        "id": "VkcxZXidXSI0"
      },
      "execution_count": null,
      "outputs": []
    },
    {
      "cell_type": "code",
      "source": [
        "imgs = []\n",
        "render_imgs = []\n",
        "for fname in sorted_img_list:\n",
        "  img = cv2.imread(fname)\n",
        "  imgs.append(img)\n",
        "  render_imgs.append(img)\n",
        "\n",
        "for img in imgs:\n",
        "  img_rgb = cv2.cvtColor(img, cv2.COLOR_BGR2RGB)\n",
        "  plt.imshow(img_rgb)\n",
        "  plt.axis(\"off\")\n",
        "  plt.pause(2)\n",
        "\n"
      ],
      "metadata": {
        "id": "dgAfy1hzYfi0"
      },
      "execution_count": null,
      "outputs": []
    },
    {
      "cell_type": "markdown",
      "source": [
        "# Quick and dirty"
      ],
      "metadata": {
        "id": "ataWWvtmbe3Y"
      }
    },
    {
      "cell_type": "code",
      "source": [
        "stitched = cv2.Stitcher_create()\n",
        "(status, pano) = stitched.stitch(imgs)"
      ],
      "metadata": {
        "id": "aosWnVtobhAy"
      },
      "execution_count": null,
      "outputs": []
    },
    {
      "cell_type": "code",
      "source": [
        "if status != cv2.STITCHER_OK:\n",
        "  print(\"Error generatting panorama\")\n",
        "else:\n",
        "  img_rgb = cv2.cvtColor(pano, cv2.COLOR_BGR2RGB)\n",
        "  plt.figure(figsize=(20,8))\n",
        "  plt.imshow(img_rgb)\n",
        "  plt.axis(\"off\")  "
      ],
      "metadata": {
        "id": "7l4ErdtYb7e7"
      },
      "execution_count": null,
      "outputs": []
    },
    {
      "cell_type": "markdown",
      "source": [
        "# Deep dive"
      ],
      "metadata": {
        "id": "l_-zei4_cIji"
      }
    },
    {
      "cell_type": "markdown",
      "source": [
        "## Image Matching"
      ],
      "metadata": {
        "id": "sjHMkZdUa591"
      }
    },
    {
      "cell_type": "markdown",
      "source": [
        "### Detect Features"
      ],
      "metadata": {
        "id": "_yUVzA3i6PIZ"
      }
    },
    {
      "cell_type": "code",
      "source": [
        "def detect_features(in_img):\n",
        "  gray = cv2.cvtColor(in_img, cv2.COLOR_BGR2GRAY)\n",
        "  feat_detector = cv2.ORB_create()\n",
        "  keypts, ftrs = feat_detector.detectAndCompute(gray, None)\n",
        "\n",
        "  return (keypts, ftrs)"
      ],
      "metadata": {
        "id": "4WxPUsg0aB8u"
      },
      "execution_count": null,
      "outputs": []
    },
    {
      "cell_type": "code",
      "source": [
        "def draw_features(src_img, keypoints):\n",
        "  cv2.drawKeypoints(src_img, keypoints, src_img)\n",
        "  plt_img = cv2.cvtColor(src_img, cv2.COLOR_BGR2RGB)\n",
        "  plt.imshow(plt_img)\n",
        "  plt.axis(\"off\")"
      ],
      "metadata": {
        "id": "pjMI3Chq8wFu"
      },
      "execution_count": null,
      "outputs": []
    },
    {
      "cell_type": "code",
      "source": [
        "for fname in sorted_img_list:\n",
        "  image = cv2.imread(fname)\n",
        "  test_kpts, _ = detect_features(image)\n",
        "  draw_features(image, test_kpts)\n",
        "  plt.pause(1)"
      ],
      "metadata": {
        "id": "62U58JiD-EEV"
      },
      "execution_count": null,
      "outputs": []
    },
    {
      "cell_type": "markdown",
      "source": [
        "### Match features"
      ],
      "metadata": {
        "id": "oXc7F3cn-eBF"
      }
    },
    {
      "cell_type": "code",
      "source": [
        "def match_features(ftrs1, ftrs2):\n",
        "  matcher = cv2.BFMatcher(cv2.NORM_HAMMING, crossCheck=False)\n",
        "  matches = matcher.match(ftrs1, ftrs2)\n",
        "  sorted_matches = sorted(matches, key = lambda x:x.distance)\n",
        "  \n",
        "  if len(sorted_matches) < 5:\n",
        "    raise Exception(\"insufficient matches\")\n",
        "\n",
        "  match_count = int(0.10 * len(sorted_matches))\n",
        "  best_matches = sorted_matches[:match_count]\n",
        "  \n",
        "  return best_matches"
      ],
      "metadata": {
        "id": "DBDNvYgc-MCB"
      },
      "execution_count": null,
      "outputs": []
    },
    {
      "cell_type": "code",
      "source": [
        "keypoint_list = []\n",
        "feature_list = []\n",
        "for img in imgs:\n",
        "  kpts, ftrs = detect_features(img)\n",
        "  keypoint_list.append(kpts)\n",
        "  feature_list.append(ftrs)\n",
        "\n",
        "print(len(feature_list[0]), len(feature_list[1]))\n",
        "matches_01 = match_features(feature_list[0], feature_list[1])\n",
        "print(len(matches_01))"
      ],
      "metadata": {
        "id": "sEMc1zfyBjJe"
      },
      "execution_count": null,
      "outputs": []
    },
    {
      "cell_type": "code",
      "source": [
        "def draw_matches(img1, kpt1, img2, kpt2, matches):\n",
        "  res_img = cv2.drawMatches(img1,\n",
        "                            kpt1,\n",
        "                            img2,\n",
        "                            kpt2,\n",
        "                            matches,\n",
        "                            None,\n",
        "                            flags=cv2.DrawMatchesFlags_NOT_DRAW_SINGLE_POINTS,\n",
        "                            )\n",
        "  render_img = cv2.cvtColor(res_img, cv2.COLOR_BGR2RGB)\n",
        "  plt.figure(figsize=(20, 8))\n",
        "  plt.imshow(render_img)\n",
        "  plt.axis(\"off\")"
      ],
      "metadata": {
        "id": "XVL_H-tbCKJ_"
      },
      "execution_count": null,
      "outputs": []
    },
    {
      "cell_type": "code",
      "source": [
        "draw_matches(imgs[0], \n",
        "             keypoint_list[0], \n",
        "             imgs[1],\n",
        "             keypoint_list[1], \n",
        "             matches_01)"
      ],
      "metadata": {
        "id": "NHSDS6HZDQCO"
      },
      "execution_count": null,
      "outputs": []
    },
    {
      "cell_type": "code",
      "source": [
        "matches_12 = match_features(feature_list[2], feature_list[1])\n",
        "draw_matches(render_imgs[2], \n",
        "             keypoint_list[2], \n",
        "             render_imgs[1],\n",
        "             keypoint_list[1], \n",
        "             matches_12)"
      ],
      "metadata": {
        "id": "UzTvdVmSDaa_"
      },
      "execution_count": null,
      "outputs": []
    },
    {
      "cell_type": "markdown",
      "source": [
        "### Determine transformation "
      ],
      "metadata": {
        "id": "m7-DM1RYVmX1"
      }
    },
    {
      "cell_type": "code",
      "source": [
        "def compute_homography(kpts1, kpts2, ftrs1, ftrs2, matches, thresh):\n",
        "  if len(matches) < 4: # need 4 matches min for homography\n",
        "    raise Exception(\"insufficient matches to compute homography\")\n",
        "\n",
        "  matched_pts1 = np.float32([kpts1[m.queryIdx].pt for m in matches])\n",
        "  matched_pts2 = np.float32([kpts2[m.trainIdx].pt for m in matches])\n",
        "\n",
        "  (H, status) = cv2.findHomography(matched_pts1, \n",
        "                                   matched_pts2,\n",
        "                                   cv2.RANSAC,\n",
        "                                   thresh,\n",
        "                                   )\n",
        "\n",
        "  return (H, status)"
      ],
      "metadata": {
        "id": "-N7shbvaVfoS"
      },
      "execution_count": null,
      "outputs": []
    },
    {
      "cell_type": "code",
      "source": [
        "(H_01, status) = compute_homography(keypoint_list[0],\n",
        "                                 keypoint_list[1],\n",
        "                                 feature_list[0],\n",
        "                                 feature_list[1],\n",
        "                                 matches_01,\n",
        "                                 4)\n",
        "print(H_01)"
      ],
      "metadata": {
        "id": "sE-hZ1jbMoVT"
      },
      "execution_count": null,
      "outputs": []
    },
    {
      "cell_type": "code",
      "source": [
        "(H_12, status) = compute_homography(keypoint_list[2],\n",
        "                                 keypoint_list[1],\n",
        "                                 feature_list[2],\n",
        "                                 feature_list[1],\n",
        "                                 matches_12,\n",
        "                                 4)\n",
        "print(H_12)"
      ],
      "metadata": {
        "id": "KXdyI8qINVxF"
      },
      "execution_count": null,
      "outputs": []
    },
    {
      "cell_type": "markdown",
      "source": [
        "## Build Panorama"
      ],
      "metadata": {
        "id": "y8_6zilPMBRi"
      }
    },
    {
      "cell_type": "markdown",
      "source": [
        "### Warp into place"
      ],
      "metadata": {
        "id": "YzMNzPdpNOrl"
      }
    },
    {
      "cell_type": "code",
      "source": [
        "# Reference: https://stackoverflow.com/questions/13063201/how-to-show-the-whole-image-when-using-opencv-warpperspective\n",
        "def stitch_images(img1, img2, H):\n",
        "  h1,w1 = img1.shape[:2]\n",
        "  h2,w2 = img2.shape[:2]\n",
        "  pts1 = np.float32([[0,0],[0,h1],[w1,h1],[w1,0]]).reshape(-1,1,2)\n",
        "  pts2 = np.float32([[0,0],[0,h2],[w2,h2],[w2,0]]).reshape(-1,1,2)\n",
        "  pts2_ = cv2.perspectiveTransform(pts2, H)\n",
        "  pts = np.concatenate((pts1, pts2_), axis=0)\n",
        "  [xmin, ymin] = np.int32(pts.min(axis=0).ravel() - 0.5)\n",
        "  [xmax, ymax] = np.int32(pts.max(axis=0).ravel() + 0.5)\n",
        "  t = [-xmin,-ymin]\n",
        "  Ht = np.array([[1,0,t[0]],[0,1,t[1]],[0,0,1]]) # translate\n",
        "\n",
        "  result = cv2.warpPerspective(img2, Ht.dot(H), (xmax-xmin, ymax-ymin))\n",
        "  result[t[1]:h1+t[1],t[0]:w1+t[0]] = img1\n",
        "\n",
        "  # Crop result\n",
        "  [xmin_res, ymin_res] = np.int32(pts.min(axis=0).ravel() - 0.5)\n",
        "  t_res = [-xmin_res, -ymin_res]\n",
        "  pts = pts.astype(int)\n",
        "  result = result[t_res[1] : h1 + t_res[1], :, :]\n",
        "\n",
        "  return result\n",
        "\n",
        "\n",
        "  "
      ],
      "metadata": {
        "id": "4iuQIedjXNYK"
      },
      "execution_count": null,
      "outputs": []
    },
    {
      "cell_type": "code",
      "source": [
        "tmp_res1 = stitch_images(imgs[1], imgs[0], H_01)\n",
        "tmp_render1 = cv2.cvtColor(tmp_res1, cv2.COLOR_BGR2RGB)"
      ],
      "metadata": {
        "id": "eoJWTYWtGqxv"
      },
      "execution_count": null,
      "outputs": []
    },
    {
      "cell_type": "code",
      "source": [
        "plt.figure(figsize=(20, 8))\n",
        "plt.imshow(tmp_render1);\n",
        "plt.axis(\"off\");"
      ],
      "metadata": {
        "id": "3sFePjQrG0dX"
      },
      "execution_count": null,
      "outputs": []
    },
    {
      "cell_type": "code",
      "source": [
        "tmp_res2 = stitch_images(imgs[1], imgs[2], H_12)\n",
        "tmp_render2 = cv2.cvtColor(tmp_res2, cv2.COLOR_BGR2RGB)"
      ],
      "metadata": {
        "id": "7hyqOQdrHNtv"
      },
      "execution_count": null,
      "outputs": []
    },
    {
      "cell_type": "code",
      "source": [
        "plt.figure(figsize=(20, 8))\n",
        "plt.imshow(tmp_render2);\n",
        "plt.axis(\"off\");"
      ],
      "metadata": {
        "id": "cI5OHQy_Ht5U"
      },
      "execution_count": null,
      "outputs": []
    },
    {
      "cell_type": "markdown",
      "source": [
        "### Match and Stitch left half with right"
      ],
      "metadata": {
        "id": "x0d7XM4XOFqm"
      }
    },
    {
      "cell_type": "code",
      "source": [
        "keypoint_pano, feature_pano = detect_features(tmp_res1)\n",
        "matches_final = match_features(feature_list[2], feature_pano)\n",
        "print(len(matches_final))"
      ],
      "metadata": {
        "id": "bUg5wabXNv9-"
      },
      "execution_count": null,
      "outputs": []
    },
    {
      "cell_type": "code",
      "source": [
        "(H_final, status) = compute_homography(keypoint_list[2],\n",
        "                                 keypoint_pano,\n",
        "                                 feature_list[2],\n",
        "                                 feature_pano,\n",
        "                                 matches_final,\n",
        "                                 4)\n",
        "print(H_final)"
      ],
      "metadata": {
        "id": "iPQi2n0IOrtA"
      },
      "execution_count": null,
      "outputs": []
    },
    {
      "cell_type": "code",
      "source": [
        "res = stitch_images(tmp_res1, imgs[2], H_final)\n",
        "res_render = cv2.cvtColor(res, cv2.COLOR_BGR2RGB)"
      ],
      "metadata": {
        "id": "f7xLnWuJO8PJ"
      },
      "execution_count": null,
      "outputs": []
    },
    {
      "cell_type": "code",
      "source": [
        "plt.figure(figsize=(20, 8))\n",
        "plt.imshow(res_render);\n",
        "plt.axis(\"off\");"
      ],
      "metadata": {
        "id": "ZNhnn4hsPGvU"
      },
      "execution_count": null,
      "outputs": []
    },
    {
      "cell_type": "code",
      "source": [],
      "metadata": {
        "id": "Ntq050oKPKF7"
      },
      "execution_count": null,
      "outputs": []
    }
  ]
}